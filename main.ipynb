{
  "cells": [
    {
      "cell_type": "markdown",
      "metadata": {
        "id": "OyVdlSh-GkwF"
      },
      "source": [
        "## Caesar Cipher"
      ]
    },
    {
      "cell_type": "code",
      "execution_count": 5,
      "metadata": {
        "colab": {
          "base_uri": "https://localhost:8080/"
        },
        "id": "Kl2ThNFzGkCD",
        "outputId": "759c9c1e-6980-4a8e-fed8-772965656947"
      },
      "outputs": [
        {
          "name": "stdout",
          "output_type": "stream",
          "text": [
            "Encrypted Text: gdwd vflhqfh\n"
          ]
        }
      ],
      "source": [
        "def main():\n",
        "    inp = input(\"Enter plain text:\")\n",
        "    k = int(input(\"Enter the key:\"))\n",
        "\n",
        "    ec = encrypted(inp,k)\n",
        "    print(\"Encrypted Text:\",ec)\n",
        "\n",
        "\n",
        "def encrypted(inp,k):\n",
        "    ans=\"\"\n",
        "    for i in range(len(inp)):\n",
        "        if inp[i] == \" \":\n",
        "            ans+= \" \"\n",
        "        else:\n",
        "            ans+=chr(ord(inp[i])+k%26)\n",
        "    return ans\n",
        "\n",
        "\n",
        "if __name__ == '__main__':\n",
        "    main()"
      ]
    },
    {
      "cell_type": "code",
      "execution_count": 6,
      "metadata": {
        "colab": {
          "base_uri": "https://localhost:8080/"
        },
        "id": "WGc_hQfLIREi",
        "outputId": "9c1c7ecd-a4ed-4285-a2ad-82ae0f3f5f83"
      },
      "outputs": [
        {
          "name": "stdout",
          "output_type": "stream",
          "text": [
            "Decrypted Text: data science\n"
          ]
        }
      ],
      "source": [
        "def main():\n",
        "    inp = input(\"Enter encrypted text:\")\n",
        "    k = int(input(\"Enter the key:\"))\n",
        "    letters=\"abcdefghijklmnopqrstuvwxyz\"\n",
        "\n",
        "    dc = decrypted(inp,k,letters)\n",
        "    print(\"Decrypted Text:\",dc)\n",
        "\n",
        "\n",
        "def decrypted(inp,k,letters):\n",
        "    ans = \"\"\n",
        "    for ch in inp:\n",
        "        if ch in letters:\n",
        "            position = letters.find(ch)\n",
        "            new_pos = (position - k) % 26\n",
        "            new_char = letters[new_pos]\n",
        "            ans += new_char\n",
        "        else:\n",
        "            ans += ch\n",
        "    return ans\n",
        "\n",
        "\n",
        "if __name__ == '__main__':\n",
        "    main()"
      ]
    },
    {
      "cell_type": "code",
      "execution_count": null,
      "metadata": {
        "id": "yWIRtMwiJ6m1"
      },
      "outputs": [],
      "source": []
    },
    {
      "cell_type": "markdown",
      "metadata": {
        "id": "X_5CcCnMGVxq"
      },
      "source": [
        "# Product Cipher"
      ]
    },
    {
      "cell_type": "code",
      "execution_count": null,
      "metadata": {
        "colab": {
          "base_uri": "https://localhost:8080/"
        },
        "id": "DaZV5aVDFDvG",
        "outputId": "d3e01b33-2262-4759-cc44-9521a5e4756d"
      },
      "outputs": [
        {
          "name": "stdout",
          "output_type": "stream",
          "text": [
            "Enter plain text:DataScience\n",
            "Enter the key:3\n",
            "Caesar Cipher: GdwdVflhqfh\n",
            "The Cipher Text is: ddfhf GwVlqh\n"
          ]
        }
      ],
      "source": [
        "def main():\n",
        "    inp = input(\"Enter plain text:\")\n",
        "\n",
        "    k = int(input(\"Enter the key:\"))\n",
        "    cc = caesar_cipher(inp,k)\n",
        "    print(\"Caesar Cipher:\",cc)\n",
        "    rf = rail_fence(cc)\n",
        "\n",
        "def caesar_cipher(inp,k):\n",
        "    ans=\"\"\n",
        "    for i in range(len(inp)):\n",
        "        if inp[i] == \" \":\n",
        "            ans+= \" \"\n",
        "        else:\n",
        "            ans+=chr(ord(inp[i])+k%26)\n",
        "    return ans\n",
        "\n",
        "def rail_fence(cc):\n",
        "    even_chars = ''\n",
        "    odd_chars = ''\n",
        "    for i in range(len(cc)):\n",
        "        if i%2==0:\n",
        "            even_chars += cc[i]\n",
        "        else:\n",
        "            odd_chars += cc[i]\n",
        "    print(\"The Cipher Text is:\",odd_chars +\" \" + even_chars)\n",
        "\n",
        "\n",
        "\n",
        "if __name__ == '__main__':\n",
        "    main()"
      ]
    },
    {
      "cell_type": "code",
      "execution_count": null,
      "metadata": {
        "id": "xv4xaW3lGggc"
      },
      "outputs": [],
      "source": []
    },
    {
      "cell_type": "markdown",
      "metadata": {
        "id": "bnFyhih7J8fF"
      },
      "source": [
        "## PlayFair Cipher"
      ]
    },
    {
      "cell_type": "code",
      "execution_count": null,
      "metadata": {
        "id": "G7pV6WCUG8N-"
      },
      "outputs": [],
      "source": [
        "def prepare_text(plain_text):\n",
        "    plain_text = plain_text.replace(\" \", \"\").upper()\n",
        "    plain_text = plain_text.replace(\"J\", \"I\")\n",
        "    return plain_text\n",
        "\n",
        "def build_key_table(key):\n",
        "    key = prepare_text(key)\n",
        "    key_table = []\n",
        "    for letter in key:\n",
        "        if letter not in key_table:\n",
        "            key_table.append(letter)\n",
        "    for char in \"ABCDEFGHIKLMNOPQRSTUVWXYZ\":\n",
        "        if char not in key_table:\n",
        "            key_table.append(char)\n",
        "    return key_table\n",
        "\n",
        "def generate_playfair_matrix(key):\n",
        "    key_table = build_key_table(key)\n",
        "    matrix = [key_table[i:i+5] for i in range(0, 25, 5)]\n",
        "    return matrix\n",
        "\n",
        "def find_position(matrix, letter):\n",
        "    for row in range(5):\n",
        "        if letter in matrix[row]:\n",
        "            return (row, matrix[row].index(letter))\n",
        "\n",
        "def check_and_encrypt(matrix,plain_text):\n",
        "    encrypted_text = \"\"\n",
        "    for i in range(0, len(plain_text), 2):\n",
        "            letter1 = plain_text[i]\n",
        "            letter2 = plain_text[i+1]\n",
        "            row1, col1 = find_position(matrix, letter1)\n",
        "            row2, col2 = find_position(matrix, letter2)\n",
        "\n",
        "            if row1 == row2:\n",
        "                encrypted_text += matrix[row1][(col1 + 1) % 5]\n",
        "                encrypted_text += matrix[row2][(col2 + 1) % 5]\n",
        "            elif col1 == col2:\n",
        "                encrypted_text += matrix[(row1 + 1) % 5][col1]\n",
        "                encrypted_text += matrix[(row2 + 1) % 5][col2]\n",
        "            else:\n",
        "                encrypted_text += matrix[row1][col2]\n",
        "                encrypted_text += matrix[row2][col1]\n",
        "    return encrypted_text\n"
      ]
    },
    {
      "cell_type": "code",
      "execution_count": null,
      "metadata": {
        "id": "qtOKk9U9Y-hS"
      },
      "outputs": [],
      "source": [
        "def encrypt(plain_text, key):\n",
        "    plain_text = prepare_text(plain_text)\n",
        "    matrix = generate_playfair_matrix(key)\n",
        "    print(matrix)\n",
        "    encrypted_text = \"\"\n",
        "    if len(plain_text) % 2 == 0:\n",
        "        encrypted_text = check_and_encrypt(matrix,plain_text)\n",
        "    else:\n",
        "        plain_text += 'X'\n",
        "        encrypted_text = check_and_encrypt(matrix,plain_text)\n",
        "    return encrypted_text"
      ]
    },
    {
      "cell_type": "code",
      "execution_count": null,
      "metadata": {
        "id": "N9xdkE47VSIJ"
      },
      "outputs": [],
      "source": [
        "def decrypted_text(cipher_text, key):\n",
        "    matrix = generate_playfair_matrix(key)\n",
        "    decrypted_text = \"\"\n",
        "    for i in range(0, len(cipher_text), 2):\n",
        "        letter1 = cipher_text[i]\n",
        "        letter2 = cipher_text[i+1]\n",
        "        row1, col1 = find_position(matrix, letter1)\n",
        "        row2, col2 = find_position(matrix, letter2)\n",
        "\n",
        "        if row1 == row2:\n",
        "            decrypted_text += matrix[row1][(col1 - 1) % 5]\n",
        "            decrypted_text += matrix[row2][(col2 - 1) % 5]\n",
        "        elif col1 == col2:\n",
        "            decrypted_text += matrix[(row1 - 1) % 5][col1]\n",
        "            decrypted_text += matrix[(row2 - 1) % 5][col2]\n",
        "        else:\n",
        "            decrypted_text += matrix[row1][col2]\n",
        "            decrypted_text += matrix[row2][col1]\n",
        "\n",
        "    return decrypted_text"
      ]
    },
    {
      "cell_type": "code",
      "execution_count": null,
      "metadata": {
        "colab": {
          "base_uri": "https://localhost:8080/"
        },
        "id": "nEqLVUY2VUB5",
        "outputId": "2e0c58df-9a27-483e-b732-3cf09558a4db"
      },
      "outputs": [
        {
          "name": "stdout",
          "output_type": "stream",
          "text": [
            "[['D', 'I', 'S', 'A', 'N'], ['G', 'H', 'V', 'B', 'C'], ['E', 'F', 'K', 'L', 'M'], ['O', 'P', 'Q', 'R', 'T'], ['U', 'W', 'X', 'Y', 'Z']]\n",
            "Original text:  DataScience\n",
            "Encrypted text:  INRNNVDFCMKU\n",
            "Decrypted text:  DATASCIENCE\n"
          ]
        }
      ],
      "source": [
        "key = \"djsanghvi\"\n",
        "plain_text = \"DataScience\"\n",
        "cipher_text = encrypt(plain_text, key)\n",
        "decrypted_text = decrypted_text(cipher_text, key)\n",
        "\n",
        "if len(decrypted_text) == len(plain_text) + 1:\n",
        "    decrypted_text = decrypted_text[:-1]\n",
        "\n",
        "print(\"Original text: \", plain_text)\n",
        "print(\"Encrypted text: \", cipher_text)\n",
        "print(\"Decrypted text: \", decrypted_text)"
      ]
    },
    {
      "cell_type": "code",
      "execution_count": null,
      "metadata": {
        "id": "mggQrHuCVcIK"
      },
      "outputs": [],
      "source": []
    },
    {
      "cell_type": "markdown",
      "metadata": {
        "id": "MOXW9OPsVh5z"
      },
      "source": [
        "## Dieffy Hellman"
      ]
    },
    {
      "cell_type": "code",
      "execution_count": null,
      "metadata": {
        "colab": {
          "base_uri": "https://localhost:8080/"
        },
        "id": "qv0DDYJ4VlQi",
        "outputId": "71fcd61b-6f98-499a-81b3-4ac3c37f94a9"
      },
      "outputs": [
        {
          "name": "stdout",
          "output_type": "stream",
          "text": [
            "Shared secret key: 4\n"
          ]
        }
      ],
      "source": [
        "def diffie_hellman(p, g, a, b):\n",
        "  A = pow(g, a, p)\n",
        "  B = pow(g, b, p)\n",
        "\n",
        "  secret_key_1 = pow(B, a, p)\n",
        "  secret_key_2 = pow(A, b, p)\n",
        "  assert secret_key_1 == secret_key_2\n",
        "  return secret_key_1\n",
        "\n",
        "p = 17\n",
        "g = 19\n",
        "a = 6\n",
        "b = 15\n",
        "\n",
        "secret_key = diffie_hellman(p, g, a, b)\n",
        "\n",
        "print(f\"Shared secret key: {secret_key}\")"
      ]
    },
    {
      "cell_type": "code",
      "execution_count": null,
      "metadata": {
        "id": "o3Rv-UiAWDop"
      },
      "outputs": [],
      "source": []
    },
    {
      "cell_type": "markdown",
      "metadata": {
        "id": "T0hru_iMWQi8"
      },
      "source": [
        "## RSA"
      ]
    },
    {
      "cell_type": "code",
      "execution_count": null,
      "metadata": {
        "colab": {
          "base_uri": "https://localhost:8080/"
        },
        "id": "ndMC_F5eWRq6",
        "outputId": "104b9e5b-4fd2-4f1d-b812-27b6768ed70a"
      },
      "outputs": [
        {
          "name": "stdout",
          "output_type": "stream",
          "text": [
            "Message data =  12.0\n",
            "Decrypted Key =  5.0\n",
            "Original Message Sent =  12.0\n"
          ]
        }
      ],
      "source": [
        "import math\n",
        "\n",
        "p = 3\n",
        "q = 7\n",
        "n = p*q\n",
        "e = 2\n",
        "phi = (p-1)*(q-1)\n",
        "\n",
        "while (e < phi):\n",
        "    if(math.gcd(e, phi) == 1):\n",
        "        break\n",
        "    else:\n",
        "        e = e+1\n",
        "\n",
        "k = 2\n",
        "d = (1 + (k*phi))/e\n",
        "\n",
        "msg = 12.0\n",
        "\n",
        "print(\"Message data = \", msg)\n",
        "\n",
        "c = pow(msg, e)\n",
        "c = math.fmod(c, n)\n",
        "\n",
        "print(\"Decrypted Key = \", d)\n",
        "\n",
        "m = pow(c, d)\n",
        "m = math.fmod(m, n)\n",
        "print(\"Original Message Sent = \", m)\n"
      ]
    },
    {
      "cell_type": "code",
      "execution_count": null,
      "metadata": {
        "id": "_tAY_W1iXKvq"
      },
      "outputs": [],
      "source": []
    },
    {
      "cell_type": "markdown",
      "metadata": {},
      "source": [
        "# Vernam Cipher"
      ]
    },
    {
      "cell_type": "code",
      "execution_count": 11,
      "metadata": {
        "id": "tWbkEXQESRGn"
      },
      "outputs": [
        {
          "name": "stdout",
          "output_type": "stream",
          "text": [
            "Cipher Text - TSYPM\n",
            "Message - HELLO\n"
          ]
        }
      ],
      "source": [
        "def encrypt(text, key):\n",
        "\tcipherText = \"\"\n",
        "\tcipher = []\n",
        "\tfor i in range(len(key)):\n",
        "\t\tcipher.append(ord(text[i]) - ord('A') + ord(key[i]) - ord('A'))\n",
        "\n",
        "\tfor i in range(len(key)):\n",
        "\t\tif cipher[i] > 25:\n",
        "\t\t\tcipher[i] = cipher[i] - 26\n",
        "\n",
        "\tfor i in range(len(key)):\n",
        "\t\tx = cipher[i] + ord('A')\n",
        "\t\tcipherText = cipherText[i] + chr(x)\n",
        "\n",
        "\treturn cipherText\n",
        "\n",
        "\n",
        "def decrypt(s, key):\n",
        "\tplainText = \"\"\n",
        "\tplain = []\n",
        "\tfor i in range(len(key)):\n",
        "\t\tplain.append(ord(s[i]) - ord('A') - (ord(key[i]) - ord('A')))\n",
        "\n",
        "\tfor i in range(len(key)):\n",
        "\t\tif (plain[i] < 0):\n",
        "\t\t\tplain[i] = plain[i] + 26\n",
        "\n",
        "\tfor i in range(len(key)):\n",
        "\t\tx = plain[i] + ord('A')\n",
        "\t\tplainText += chr(x)\n",
        "\n",
        "\treturn plainText\n",
        "\n",
        "\n",
        "plainText = \"HELLO\"\n",
        "key = \"MONEY\"\n",
        "\n",
        "encryptedText = encrypt(plainText.upper(), key.upper())\n",
        "print(\"Cipher Text - \" + encryptedText)\n",
        "\n",
        "print(\"Message - \" + decrypt(encryptedText, key.upper()))\n"
      ]
    },
    {
      "cell_type": "code",
      "execution_count": null,
      "metadata": {},
      "outputs": [],
      "source": []
    },
    {
      "cell_type": "markdown",
      "metadata": {},
      "source": [
        "# RSA Digital Signature"
      ]
    },
    {
      "cell_type": "code",
      "execution_count": null,
      "metadata": {},
      "outputs": [],
      "source": [
        "# Function to find gcd \n",
        "# of two numbers\n",
        "def euclid(m, n):\n",
        "\t\n",
        "\tif n == 0:\n",
        "\t\treturn m\n",
        "\telse:\n",
        "\t\tr = m % n\n",
        "\t\treturn euclid(n,r)\n",
        "\t\n",
        "\t\n",
        "# Program to find \n",
        "# Multiplicative inverse\n",
        "def exteuclid(a, b):\n",
        "\tr1 = a\n",
        "\tr2 = b\n",
        "\ts1 = int(1)\n",
        "\ts2 = int(0)\n",
        "\tt1 = int(0)\n",
        "\tt2 = int(1)\n",
        "\t\n",
        "\twhile r2 > 0:\n",
        "\t\t\n",
        "\t\tq = r1//r2\n",
        "\t\tr = r1-q * r2\n",
        "\t\tr1 = r2\n",
        "\t\tr2 = r\n",
        "\t\ts = s1-q * s2\n",
        "\t\ts1 = s2\n",
        "\t\ts2 = s\n",
        "\t\tt = t1-q * t2\n",
        "\t\tt1 = t2\n",
        "\t\tt2 = t\n",
        "\t\t\n",
        "\tif t1 < 0:\n",
        "\t\tt1 = t1 % a\n",
        "\t\t\n",
        "\treturn (r1, t1)\n",
        "\n",
        "# Enter two large prime\n",
        "# numbers p and q\n",
        "p = 823\n",
        "q = 953\n",
        "n = p * q\n",
        "Pn = (p-1)*(q-1)\n",
        "\n",
        "# Generate encryption key \n",
        "# in range 1<e<Pn\n",
        "key = []\n",
        "\n",
        "for i in range(2, Pn):\n",
        "\t\n",
        "\tgcd = euclid(Pn, i)\n",
        "\t\n",
        "\tif gcd == 1:\n",
        "\t\tkey.append(i)\n",
        "\n",
        "\n",
        "# Select an encryption key \n",
        "# from the above list\n",
        "e = int(313)\n",
        "\n",
        "# Obtain inverse of \n",
        "# encryption key in Z_Pn\n",
        "r, d = exteuclid(Pn, e)\n",
        "if r == 1:\n",
        "\td = int(d)\n",
        "\tprint(\"decryption key is: \", d)\n",
        "\t\n",
        "else:\n",
        "\tprint(\"Multiplicative inverse for\\\n",
        "\tthe given encryption key does not \\\n",
        "\texist. Choose a different encryption key \")\n",
        "\n",
        "\n",
        "# Enter the message to be sent\n",
        "M = 19070\n",
        "\n",
        "# Signature is created by Alice\n",
        "S = (M**d) % n\n",
        "\n",
        "# Alice sends M and S both to Bob\n",
        "# Bob generates message M1 using the\n",
        "# signature S, Alice's public key e \n",
        "# and product n.\n",
        "M1 = (S**e) % n\n",
        "\n",
        "# If M = M1 only then Bob accepts\n",
        "# the message sent by Alice.\n",
        "\n",
        "if M == M1:\n",
        "\tprint(\"As M = M1, Accept the\\\n",
        "\tmessage sent by Alice\")\n",
        "else:\n",
        "\tprint(\"As M not equal to M1,\\\n",
        "\tDo not accept the message\\\n",
        "\tsent by Alice \")\n"
      ]
    },
    {
      "cell_type": "code",
      "execution_count": null,
      "metadata": {},
      "outputs": [],
      "source": []
    },
    {
      "cell_type": "markdown",
      "metadata": {},
      "source": [
        "# Row Transposition"
      ]
    },
    {
      "cell_type": "code",
      "execution_count": 19,
      "metadata": {},
      "outputs": [],
      "source": [
        "import pandas as pd\n",
        "import numpy as np\n",
        "import math\n",
        "def encrypt(pt,key):\n",
        "  rows=[]\n",
        "  for i in key:\n",
        "    rows.append(i)\n",
        "\n",
        "  cols=math.ceil(len(pt)/len(key))\n",
        "\n",
        "  columns=[]\n",
        "  for i in range(cols+1):\n",
        "    columns.append(i)\n",
        "\n",
        "  df=pd.DataFrame(columns=columns)\n",
        "  df[0]=rows\n",
        "\n",
        "  pt=pt.replace(\" \",\"_\")\n",
        "\n",
        "  ctr=0\n",
        "  for col in columns[1:]:\n",
        "    for row in range(len(rows)):\n",
        "      try:\n",
        "        df[col][row]=pt[ctr]\n",
        "        ctr=ctr+1\n",
        "      except:\n",
        "        df[col][row]=\"_\"\n",
        "\n",
        "  l1=rows\n",
        "  l1.sort()\n",
        "  ct=\"\"\n",
        "  for row in l1:\n",
        "    prow=np.where(df[0]==row)\n",
        "    place_row=prow[0][0]\n",
        "    for col in columns[1:]:\n",
        "      ct=ct+df[col][place_row]\n",
        "\n",
        "  ct=ct.replace(\"_\",\" \")\n",
        "  return ct,df"
      ]
    },
    {
      "cell_type": "code",
      "execution_count": 26,
      "metadata": {},
      "outputs": [
        {
          "data": {
            "text/plain": [
              "'acctiedsnae '"
            ]
          },
          "execution_count": 26,
          "metadata": {},
          "output_type": "execute_result"
        }
      ],
      "source": [
        "ct,df=encrypt(\"datascience\",\"HACK\")\n",
        "ct"
      ]
    },
    {
      "cell_type": "markdown",
      "metadata": {},
      "source": [
        "# Euclidian"
      ]
    },
    {
      "cell_type": "code",
      "execution_count": 13,
      "metadata": {},
      "outputs": [
        {
          "name": "stdout",
          "output_type": "stream",
          "text": [
            "gcd( 10 , 15 ) =  5\n",
            "gcd( 35 , 10 ) =  5\n",
            "gcd( 31 , 2 ) =  1\n"
          ]
        }
      ],
      "source": [
        "def gcd(a, b):\n",
        "\tif a == 0:\n",
        "\t\treturn b\n",
        "\n",
        "\treturn gcd(b % a, a)\n",
        "\n",
        "# Driver code\n",
        "if __name__ == \"__main__\":\n",
        "    a = 10\n",
        "    b = 15\n",
        "    print(\"gcd(\", a, \",\", b, \") = \", gcd(a, b))\n",
        "\n",
        "    a = 35\n",
        "    b = 10\n",
        "    print(\"gcd(\", a, \",\", b, \") = \", gcd(a, b))\n",
        "\n",
        "    a = 31\n",
        "    b = 2\n",
        "    print(\"gcd(\", a, \",\", b, \") = \", gcd(a, b))\n"
      ]
    },
    {
      "cell_type": "markdown",
      "metadata": {},
      "source": [
        "# Extended Euclidian"
      ]
    },
    {
      "cell_type": "code",
      "execution_count": 14,
      "metadata": {},
      "outputs": [
        {
          "name": "stdout",
          "output_type": "stream",
          "text": [
            "gcd( 35 , 15 ) =  5\n"
          ]
        }
      ],
      "source": [
        "def gcdExtended(a, b):\n",
        "\tif a == 0:\n",
        "\t\treturn b, 0, 1\n",
        "\n",
        "\tgcd, x1, y1 = gcdExtended(b % a, a)\n",
        "\tx = y1 - (b//a) * x1\n",
        "\ty = x1\n",
        "\treturn gcd, x, y\n",
        "\n",
        "# Driver code\n",
        "a, b = 35, 15\n",
        "g, x, y = gcdExtended(a, b)\n",
        "print(\"gcd(\", a, \",\", b, \") = \", g)\n"
      ]
    },
    {
      "cell_type": "markdown",
      "metadata": {},
      "source": [
        "# Man in the Middle Diffe Hellman"
      ]
    },
    {
      "cell_type": "code",
      "execution_count": null,
      "metadata": {},
      "outputs": [],
      "source": [
        "def primitiveCheck(g,p):\n",
        "  l1=[]\n",
        "  for i in range(1,p):\n",
        "    l1.append(pow(g,i)%p)\n",
        "  for i in l1:\n",
        "    if(l1.count(i)>1):\n",
        "      return -1\n",
        "    return 1\n",
        "\n",
        "p=random.randrange(1024)\n",
        "while(True):\n",
        "  if(isprime(p)):\n",
        "    break\n",
        "  else:\n",
        "    p=random.randrange(1024)\n",
        "\n",
        "g=random.randrange(p)\n",
        "while(True):\n",
        "  if(primitiveCheck(g,p)==1):\n",
        "    break\n",
        "  else:\n",
        "    g=random.randrange(p)\n",
        "\n",
        "a=int(input(\"Select private Key for Alice\"))\n",
        "b=int(input(\"Select private key for Bob\"))\n",
        "c=int(input(\"Select private key for Hacker\"))\n",
        "\n",
        "x1=pow(g,a)%p\n",
        "h1=pow(g,c)%p\n",
        "y1=pow(g,b)%p\n",
        "\n",
        "x2=pow(h1,a)%p\n",
        "hx2=pow(x1,c)%p\n",
        "\n",
        "hy2=pow(y1,c)%p\n",
        "y2=pow(h1,b)%p\n",
        "\n",
        "if(hx2==x2):\n",
        "  print(\"Hacker has connected with Alice\")\n",
        "  print(\"Shared key of Hacker with Alice\")\n",
        "  print(hx2)\n",
        "\n",
        "if(hy2==y2):\n",
        "  print(\"Hacker has connected with Bob\")\n",
        "  print(\"Shared key of Hacker with Bob\")\n",
        "  print(hy2)"
      ]
    }
  ],
  "metadata": {
    "colab": {
      "provenance": []
    },
    "kernelspec": {
      "display_name": "Python 3",
      "name": "python3"
    },
    "language_info": {
      "codemirror_mode": {
        "name": "ipython",
        "version": 3
      },
      "file_extension": ".py",
      "mimetype": "text/x-python",
      "name": "python",
      "nbconvert_exporter": "python",
      "pygments_lexer": "ipython3",
      "version": "3.11.0"
    }
  },
  "nbformat": 4,
  "nbformat_minor": 0
}
